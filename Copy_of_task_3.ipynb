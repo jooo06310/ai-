{
  "cells": [
    {
      "cell_type": "markdown",
      "metadata": {
        "id": "view-in-github",
        "colab_type": "text"
      },
      "source": [
        "<a href=\"https://colab.research.google.com/github/jooo06310/ai-/blob/main/Copy_of_task_3.ipynb\" target=\"_parent\"><img src=\"https://colab.research.google.com/assets/colab-badge.svg\" alt=\"Open In Colab\"/></a>"
      ]
    },
    {
      "cell_type": "markdown",
      "id": "ff38aad7",
      "metadata": {
        "id": "ff38aad7"
      },
      "source": [
        "### 1-Write a Python program that takes two numbers as user input and performs addition on them."
      ]
    },
    {
      "cell_type": "code",
      "execution_count": null,
      "id": "91696b79",
      "metadata": {
        "id": "91696b79",
        "outputId": "aea43eec-f51a-4319-c624-20d8d3cb2996",
        "colab": {
          "base_uri": "https://localhost:8080/"
        }
      },
      "outputs": [
        {
          "output_type": "stream",
          "name": "stdout",
          "text": [
            "Enter number1: 5\n",
            "Enter number2: 3\n",
            "The Addition of The Numbers is : 8\n"
          ]
        }
      ],
      "source": [
        "num1=int(input(\"Enter number1: \"))\n",
        "num2=int(input(\"Enter number2: \"))\n",
        "print(\"The Addition of The Numbers is :\",num1+num2)"
      ]
    },
    {
      "cell_type": "markdown",
      "id": "360854ff",
      "metadata": {
        "id": "360854ff"
      },
      "source": [
        "### 2-Write a Python program that takes an integer as input and checks if it is even or odd. Print \"Even\" if the number is divisible by 2, otherwise print \"Odd\"."
      ]
    },
    {
      "cell_type": "code",
      "execution_count": null,
      "id": "24616afc",
      "metadata": {
        "id": "24616afc",
        "outputId": "2253399b-b297-4516-d367-10544ace319c",
        "colab": {
          "base_uri": "https://localhost:8080/"
        }
      },
      "outputs": [
        {
          "output_type": "stream",
          "name": "stdout",
          "text": [
            "Enter Number: 0\n",
            "Even\n"
          ]
        }
      ],
      "source": [
        "num=int(input(\"Enter Number: \"))\n",
        "if num%2==0:\n",
        "    print(\"Even\")\n",
        "else:\n",
        "    print(\"Odd\")"
      ]
    },
    {
      "cell_type": "markdown",
      "id": "6ea0354c",
      "metadata": {
        "id": "6ea0354c"
      },
      "source": [
        "### 3-Write a Python program that prints all the even numbers from 1 to 20 using a for loop"
      ]
    },
    {
      "cell_type": "code",
      "execution_count": null,
      "id": "df43b7f5",
      "metadata": {
        "ExecuteTime": {
          "end_time": "2023-07-23T21:36:51.373589Z",
          "start_time": "2023-07-23T21:36:51.365580Z"
        },
        "id": "df43b7f5",
        "outputId": "5d3c75d4-99a5-4db9-b2fd-368a38470690",
        "colab": {
          "base_uri": "https://localhost:8080/"
        }
      },
      "outputs": [
        {
          "output_type": "stream",
          "name": "stdout",
          "text": [
            "0\n",
            "2\n",
            "4\n",
            "6\n",
            "8\n",
            "10\n",
            "12\n",
            "14\n",
            "16\n",
            "18\n",
            "20\n"
          ]
        }
      ],
      "source": [
        "for i in range(0,21):\n",
        "   if i%2==0:\n",
        "      print(i)"
      ]
    },
    {
      "cell_type": "markdown",
      "id": "2d66bab2",
      "metadata": {
        "id": "2d66bab2"
      },
      "source": [
        "### 4-Write a Python function that takes a string as input and counts the number of vowels (a, e, i, o, u) in the string. The function should return the count"
      ]
    },
    {
      "cell_type": "code",
      "execution_count": null,
      "id": "a37a84fd",
      "metadata": {
        "ExecuteTime": {
          "end_time": "2023-07-23T21:45:58.522044Z",
          "start_time": "2023-07-23T21:45:58.514370Z"
        },
        "id": "a37a84fd",
        "outputId": "9a130104-969f-4761-f71a-203eb51a756a",
        "colab": {
          "base_uri": "https://localhost:8080/"
        }
      },
      "outputs": [
        {
          "name": "stdout",
          "output_type": "stream",
          "text": [
            "Enter a String :youssef\n"
          ]
        },
        {
          "output_type": "execute_result",
          "data": {
            "text/plain": [
              "3"
            ]
          },
          "metadata": {},
          "execution_count": 20
        }
      ],
      "source": [
        "def vowels_count(s):\n",
        "  vowels = 'aeiou'\n",
        "  return sum(1 for i in s if i in vowels)\n",
        "string=input( \"Enter a String :\")\n",
        "vowels_count(string)"
      ]
    },
    {
      "cell_type": "markdown",
      "id": "a9a0ea06",
      "metadata": {
        "id": "a9a0ea06"
      },
      "source": [
        "### 5-Write a Python program that creates a list of numbers from 1 to 10. Use a loop to iterate over the list and print each number of power 2."
      ]
    },
    {
      "cell_type": "code",
      "execution_count": null,
      "id": "f0e52d30",
      "metadata": {
        "ExecuteTime": {
          "end_time": "2023-07-15T16:20:03.747408Z",
          "start_time": "2023-07-15T16:20:03.740547Z"
        },
        "id": "f0e52d30",
        "outputId": "221ef55e-e147-4883-87ce-e92ffe6aebf1",
        "colab": {
          "base_uri": "https://localhost:8080/"
        }
      },
      "outputs": [
        {
          "output_type": "stream",
          "name": "stdout",
          "text": [
            "1\n",
            "4\n",
            "9\n",
            "16\n",
            "25\n",
            "36\n",
            "49\n",
            "64\n",
            "81\n",
            "100\n"
          ]
        }
      ],
      "source": [
        "my_list=[1,2,3,4,5,6,7,8,9,10]\n",
        "for i in my_list:\n",
        "  print(i**2)"
      ]
    },
    {
      "cell_type": "markdown",
      "id": "430c9df9",
      "metadata": {
        "id": "430c9df9"
      },
      "source": [
        "### 6-Write a Python program that calculates the average grade for a student based on their scores in different subjects. The program should include the following steps:\n",
        "\n",
        "#### 1-Create variables to store the student's name, subject names, and corresponding scores. Initialize the variables with sample data.\n",
        "\n",
        "#### 2-Prompt the user to enter the student's name and assign it to the name variable.\n",
        "\n",
        "#### 3-Use a loop to prompt the user to enter the subject names and corresponding scores. Store the subject names in a list and the scores in another list.\n",
        "\n",
        "#### 4-After collecting the scores, calculate the average grade by summing up all the scores and dividing by the total number of subjects.\n",
        "\n",
        "#### 5-Check if the average grade is above a 70, print a congratulatory message. Otherwise, print an encouragement message."
      ]
    },
    {
      "cell_type": "code",
      "execution_count": null,
      "id": "37b3ff97",
      "metadata": {
        "ExecuteTime": {
          "end_time": "2023-07-23T21:56:24.493717Z",
          "start_time": "2023-07-23T21:56:17.227071Z"
        },
        "id": "37b3ff97",
        "outputId": "0d9ab0ae-a12e-4855-ee19-fdd72efbe020",
        "colab": {
          "base_uri": "https://localhost:8080/"
        }
      },
      "outputs": [
        {
          "output_type": "stream",
          "name": "stdout",
          "text": [
            "Enter Your Name: youssef\n",
            "Enter Number of Subjects: 4\n",
            "Enter Subject Name: math\n",
            "Enter Score: 80\n",
            "Enter Subject Name: it\n",
            "Enter Score: 60\n",
            "Enter Subject Name: electro\n",
            "Enter Score: 70\n",
            "Enter Subject Name: c++\n",
            "Enter Score: 70\n",
            "Congratulations you made it \\Your average is\\: 70.0\n"
          ]
        }
      ],
      "source": [
        "name=input(\"Enter Your Name: \")\n",
        "SubjectNames=[]\n",
        "scores=[]\n",
        "num_of_sub=int(input(\"Enter Number of Subjects: \"))\n",
        "for i in range(num_of_sub):\n",
        "  SubjectNames.append(input(\"Enter Subject Name: \"))\n",
        "  scores.append(int(input(\"Enter Score: \")))\n",
        "average=sum(scores)/num_of_sub\n",
        "if average>=70 :\n",
        "  print(\"Congratulations you made it \\Your average is\\:\",average)\n",
        "else:\n",
        "  print(\"not bad but you can do better \\Your average is\\:\",average)"
      ]
    },
    {
      "cell_type": "markdown",
      "id": "ae9df360",
      "metadata": {
        "id": "ae9df360"
      },
      "source": [
        "### 7-Find Common Elements\n",
        "### Write a Python function that takes two lists as input and returns a new list containing the common elements present in both lists."
      ]
    },
    {
      "cell_type": "code",
      "execution_count": null,
      "id": "d030c3c0",
      "metadata": {
        "ExecuteTime": {
          "end_time": "2023-07-23T22:08:16.794474Z",
          "start_time": "2023-07-23T22:08:16.775639Z"
        },
        "id": "d030c3c0",
        "outputId": "316ee58f-0ba5-47b9-ee46-e22ba22c6311",
        "colab": {
          "base_uri": "https://localhost:8080/"
        }
      },
      "outputs": [
        {
          "output_type": "stream",
          "name": "stdout",
          "text": [
            "Enter nums: 1234567\n",
            "Enter nums: 6932104\n",
            "['1', '2', '3', '4', '5', '6', '7']\n",
            "['6', '9', '3', '2', '1', '0', '4']\n",
            "The commen factors:  ['1', '2', '3', '4', '6']\n"
          ]
        }
      ],
      "source": [
        "def common_list(list1,list2):\n",
        "  return list(i for i in list1 if i in list2)\n",
        "list1=list(input(\"Enter nums: \"))\n",
        "list2=list(input(\"Enter nums: \"))\n",
        "print(list1)\n",
        "print(list2)\n",
        "print(\"The commen factors: \" ,common_list(list1,list2))"
      ]
    },
    {
      "cell_type": "markdown",
      "id": "9a2f34cb",
      "metadata": {
        "id": "9a2f34cb"
      },
      "source": [
        "### 8-Write a Python function that takes a list of numbers and an element to remove from the list."
      ]
    },
    {
      "cell_type": "code",
      "execution_count": null,
      "id": "78de9fe8",
      "metadata": {
        "ExecuteTime": {
          "end_time": "2023-07-23T22:21:36.514592Z",
          "start_time": "2023-07-23T22:21:36.505437Z"
        },
        "id": "78de9fe8",
        "outputId": "f22701a5-8f7f-47f3-bb3b-53445efead5a",
        "colab": {
          "base_uri": "https://localhost:8080/"
        }
      },
      "outputs": [
        {
          "output_type": "execute_result",
          "data": {
            "text/plain": [
              "[1, 2, 4, 5]"
            ]
          },
          "metadata": {},
          "execution_count": 34
        }
      ],
      "source": [
        "def new_list(list1 , remove_element):\n",
        "  return [i for i in my_list if i != remove_element]\n",
        "my_list=[1,2,3,4,3,5,3]\n",
        "remove_element=3\n",
        "new_list(list1,remove_element)"
      ]
    },
    {
      "cell_type": "markdown",
      "id": "f1658f3b",
      "metadata": {
        "ExecuteTime": {
          "end_time": "2023-07-23T22:18:08.230185Z",
          "start_time": "2023-07-23T22:18:08.224220Z"
        },
        "id": "f1658f3b"
      },
      "source": [
        "### 9-Given 4 numbers A, B, C and D. Print the last 2 digits from their Multiplication.\n",
        "### Example :\n",
        "### the Multiplication of 4 numbers is 5 * 7 * 2 * 4 = 280 so the answer will be the last 2 digits which are 80."
      ]
    },
    {
      "cell_type": "code",
      "execution_count": null,
      "id": "e3acbe03",
      "metadata": {
        "ExecuteTime": {
          "end_time": "2023-07-23T22:26:11.183016Z",
          "start_time": "2023-07-23T22:26:03.981069Z"
        },
        "id": "e3acbe03",
        "outputId": "d2a8a132-3b79-460f-e458-27a13dd45591",
        "colab": {
          "base_uri": "https://localhost:8080/"
        }
      },
      "outputs": [
        {
          "output_type": "stream",
          "name": "stdout",
          "text": [
            "40\n"
          ]
        }
      ],
      "source": [
        "a=4\n",
        "b=5\n",
        "c=6\n",
        "d=7\n",
        "multi=a*b*c*d\n",
        "print(multi%100)"
      ]
    },
    {
      "cell_type": "markdown",
      "id": "d7ab15bb",
      "metadata": {
        "ExecuteTime": {
          "end_time": "2023-07-23T22:26:14.833712Z",
          "start_time": "2023-07-23T22:26:14.819130Z"
        },
        "id": "d7ab15bb"
      },
      "source": [
        "### 10- Given a number X. Determine if the number is prime or not"
      ]
    },
    {
      "cell_type": "code",
      "execution_count": null,
      "id": "59b27f0a",
      "metadata": {
        "ExecuteTime": {
          "end_time": "2023-07-23T22:35:25.933766Z",
          "start_time": "2023-07-23T22:35:24.168681Z"
        },
        "id": "59b27f0a",
        "outputId": "16aa979b-a24f-441c-9dab-22db9f0aaac5",
        "colab": {
          "base_uri": "https://localhost:8080/"
        }
      },
      "outputs": [
        {
          "output_type": "stream",
          "name": "stdout",
          "text": [
            "please enter the number to check: 9\n",
            "Not Prime.\n"
          ]
        }
      ],
      "source": [
        "num=int(input(\"please enter the number to check: \"))\n",
        "if num > 1:\n",
        "    for i in range(2,num):\n",
        "        if num%i == 0:\n",
        "            print(\"Not Prime.\")\n",
        "            break\n",
        "    else:\n",
        "        print(\"Prime.\")\n",
        "\n",
        "else:\n",
        "    print(\"Not prime.\")\n"
      ]
    },
    {
      "cell_type": "markdown",
      "id": "e1d1dcf9",
      "metadata": {
        "id": "e1d1dcf9"
      },
      "source": [
        "### 11- Given a number N and a list A of N numbers. Determine if the number X exists in array A or not and print its position (0-index)."
      ]
    },
    {
      "cell_type": "code",
      "execution_count": null,
      "id": "2b002b0e",
      "metadata": {
        "ExecuteTime": {
          "end_time": "2023-07-23T22:53:41.474835Z",
          "start_time": "2023-07-23T22:53:41.458293Z"
        },
        "id": "2b002b0e",
        "outputId": "4b9c0d1c-c9b7-461c-e574-2511d9dee5a9",
        "colab": {
          "base_uri": "https://localhost:8080/"
        }
      },
      "outputs": [
        {
          "output_type": "stream",
          "name": "stdout",
          "text": [
            "Enter Number of Elements : 5\n",
            "Enter Element : 1\n",
            "Enter Element : 2\n",
            "Enter Element : 3\n",
            "Enter Element : 4\n",
            "Enter Element : 5\n",
            "Enter the num to check: 5\n",
            "Number found in the index :  4\n"
          ]
        }
      ],
      "source": [
        "my_list=[]\n",
        "num=int(input(\"Enter Number of Elements : \"))\n",
        "for i in range(num) :\n",
        "   my_list.append(int(input(\"Enter Element : \")))\n",
        "x=int(input(\"Enter the num to check: \"))\n",
        "if x in my_list:\n",
        "  print(\"Number found in the index : \",my_list.index(x))\n",
        "else:\n",
        "  print(\"NUmber Not found in the index\")"
      ]
    },
    {
      "cell_type": "markdown",
      "id": "f2ec854b",
      "metadata": {
        "id": "f2ec854b"
      },
      "source": [
        "### 12- Given a number N and a list A of N numbers. Determine if the array is lucky or not.\n",
        "\n",
        "#### Note: the array is lucky if the frequency (number of occurrence) of the minimum element is odd."
      ]
    },
    {
      "cell_type": "code",
      "execution_count": null,
      "id": "0c4f7f4b",
      "metadata": {
        "ExecuteTime": {
          "end_time": "2023-07-23T23:02:02.490192Z",
          "start_time": "2023-07-23T23:02:02.476874Z"
        },
        "id": "0c4f7f4b",
        "outputId": "dd25923b-7cb9-4a8e-dd69-10359e1b3d98",
        "colab": {
          "base_uri": "https://localhost:8080/"
        }
      },
      "outputs": [
        {
          "output_type": "stream",
          "name": "stdout",
          "text": [
            "Enter Number of Elements : 5\n",
            "Enter Element : 1\n",
            "Enter Element : 2\n",
            "Enter Element : 3\n",
            "Enter Element : 4\n",
            "Enter Element : 5\n",
            "lucky\n"
          ]
        }
      ],
      "source": [
        "my_list=[]\n",
        "num=int(input(\"Enter Number of Elements : \"))\n",
        "for i in range(num) :\n",
        "   my_list.append(int(input(\"Enter Element : \")))\n",
        "min_elements=min(my_list)\n",
        "frequency=my_list.count(min_elements)\n",
        "if frequency%2==1 :\n",
        "  print(\"lucky\")\n",
        "else:\n",
        "  print(\"Not lucky\")"
      ]
    },
    {
      "cell_type": "markdown",
      "id": "e1ce1ae5",
      "metadata": {
        "id": "e1ce1ae5"
      },
      "source": [
        "### 13-Given a number N and a list A of N numbers. Print the array after doing the following operations:\n",
        "\n",
        "#### Find minimum number in these numbers.\n",
        "#### Find maximum number in these numbers.\n",
        "##### Swap minimum number with maximum number."
      ]
    },
    {
      "cell_type": "code",
      "execution_count": null,
      "id": "e0d6e639",
      "metadata": {
        "ExecuteTime": {
          "end_time": "2023-07-23T23:10:04.293733Z",
          "start_time": "2023-07-23T23:10:04.280256Z"
        },
        "id": "e0d6e639",
        "outputId": "952fef36-42fe-430d-eb26-5b60ec57feb8",
        "colab": {
          "base_uri": "https://localhost:8080/"
        }
      },
      "outputs": [
        {
          "output_type": "stream",
          "name": "stdout",
          "text": [
            "Enter Number of Elements : 5\n",
            "Enter Element : 1\n",
            "Enter Element : 2\n",
            "Enter Element : 3\n",
            "Enter Element : 4\n",
            "Enter Element : 5\n",
            "Maximum Number :  5\n",
            "Minimum Number :  1\n",
            "After Swapping :  [5, 2, 3, 4, 1]\n"
          ]
        }
      ],
      "source": [
        "my_list=[]\n",
        "num=int(input(\"Enter Number of Elements : \"))\n",
        "for i in range(num) :\n",
        "   my_list.append(int(input(\"Enter Element : \")))\n",
        "maxmum_number=max(my_list)\n",
        "minmum_number=min(my_list)\n",
        "print(\"Maximum Number : \",maxmum_number)\n",
        "print(\"Minimum Number : \",minmum_number)\n",
        "my_list[my_list.index(maxmum_number)]=minmum_number\n",
        "my_list[my_list.index(minmum_number)]=maxmum_number\n",
        "print(\"After Swapping : \",my_list)"
      ]
    },
    {
      "cell_type": "markdown",
      "id": "9eb8e9c5",
      "metadata": {
        "ExecuteTime": {
          "end_time": "2023-07-23T23:10:06.436833Z",
          "start_time": "2023-07-23T23:10:06.422086Z"
        },
        "id": "9eb8e9c5"
      },
      "source": [
        "### 14-Given a number N and an array A of N numbers. Print the lowest number and its position.\n",
        "\n",
        "### Note: if there are more than one answer print first one's position."
      ]
    },
    {
      "cell_type": "code",
      "execution_count": null,
      "id": "27e032e4",
      "metadata": {
        "ExecuteTime": {
          "end_time": "2023-07-23T23:20:55.425024Z",
          "start_time": "2023-07-23T23:20:55.407711Z"
        },
        "id": "27e032e4",
        "outputId": "91e2c019-87f1-4473-adcb-5d536b903da0",
        "colab": {
          "base_uri": "https://localhost:8080/"
        }
      },
      "outputs": [
        {
          "output_type": "stream",
          "name": "stdout",
          "text": [
            "Enter Number of Elements : 5\n",
            "Enter Element : 1\n",
            "Enter Element : 2\n",
            "Enter Element : 3\n",
            "Enter Element : 4\n",
            "Enter Element : 5\n",
            "[1, 2, 3, 4, 5]\n",
            "Minimum Number :  1\n",
            "Minimum Number index :  0\n"
          ]
        }
      ],
      "source": [
        "my_list=[]\n",
        "num=int(input(\"Enter Number of Elements : \"))\n",
        "for i in range(num) :\n",
        "   my_list.append(int(input(\"Enter Element : \")))\n",
        "min_number=min(my_list)\n",
        "print(my_list)\n",
        "print(\"Minimum Number : \" ,min_number)\n",
        "print(\"Minimum Number index : \" ,my_list.index(min_number))"
      ]
    },
    {
      "cell_type": "markdown",
      "id": "f35d3427",
      "metadata": {
        "ExecuteTime": {
          "end_time": "2023-07-23T23:20:55.880128Z",
          "start_time": "2023-07-23T23:20:55.861804Z"
        },
        "id": "f35d3427"
      },
      "source": [
        "### 15-Given a number N and an array A of N numbers. Print the numbers after sorting them"
      ]
    },
    {
      "cell_type": "code",
      "execution_count": null,
      "id": "38100d74",
      "metadata": {
        "ExecuteTime": {
          "end_time": "2023-07-23T23:46:14.343960Z",
          "start_time": "2023-07-23T23:46:14.325805Z"
        },
        "id": "38100d74",
        "outputId": "110e163a-5ce1-4e8c-c0e5-372e452b710b",
        "colab": {
          "base_uri": "https://localhost:8080/"
        }
      },
      "outputs": [
        {
          "output_type": "stream",
          "name": "stdout",
          "text": [
            "Enter Number of Elements : 5\n",
            "Enter Element : 3\n",
            "Enter Element : 2\n",
            "Enter Element : 5\n",
            "Enter Element : 1\n",
            "Enter Element : 4\n",
            "Before sorting :  [3, 2, 5, 1, 4]\n",
            "After sorting :  [1, 2, 3, 4, 5]\n"
          ]
        }
      ],
      "source": [
        "my_list=[]\n",
        "num=int(input(\"Enter Number of Elements : \"))\n",
        "for i in range(num) :\n",
        "   my_list.append(int(input(\"Enter Element : \")))\n",
        "print(\"Before sorting : \",my_list)\n",
        "my_list.sort()\n",
        "print(\"After sorting : \",my_list)"
      ]
    },
    {
      "cell_type": "markdown",
      "id": "a172f354",
      "metadata": {
        "ExecuteTime": {
          "end_time": "2023-07-23T23:46:15.127981Z",
          "start_time": "2023-07-23T23:46:15.108766Z"
        },
        "id": "a172f354"
      },
      "source": [
        "### 16- Write a Python program to remove spaces from a given string"
      ]
    },
    {
      "cell_type": "code",
      "execution_count": null,
      "id": "36d3569d",
      "metadata": {
        "ExecuteTime": {
          "end_time": "2023-07-23T23:50:06.443640Z",
          "start_time": "2023-07-23T23:50:01.592919Z"
        },
        "id": "36d3569d",
        "outputId": "d5b3660f-1eef-4955-c172-201cf8035d72",
        "colab": {
          "base_uri": "https://localhost:8080/"
        }
      },
      "outputs": [
        {
          "output_type": "stream",
          "name": "stdout",
          "text": [
            "YoussefTamer\n"
          ]
        }
      ],
      "source": [
        "string=\"Youssef     Tamer\"\n",
        "print(string.replace(\" \",\"\"))"
      ]
    },
    {
      "cell_type": "markdown",
      "id": "a5470d49",
      "metadata": {
        "id": "a5470d49"
      },
      "source": [
        "### 17-write a Python program to swap first and last element of any list."
      ]
    },
    {
      "cell_type": "code",
      "execution_count": null,
      "id": "9d73887b",
      "metadata": {
        "ExecuteTime": {
          "end_time": "2023-07-23T23:50:59.283429Z",
          "start_time": "2023-07-23T23:50:59.272096Z"
        },
        "id": "9d73887b",
        "outputId": "1da8fee9-7b08-4427-c9e8-f8990727fd53",
        "colab": {
          "base_uri": "https://localhost:8080/"
        }
      },
      "outputs": [
        {
          "output_type": "stream",
          "name": "stdout",
          "text": [
            "[6, 2, 3, 4, 5, 1]\n"
          ]
        }
      ],
      "source": [
        "my_list=[1 ,2 ,3, 4, 5,6]\n",
        "my_list[0],my_list[-1]=my_list[-1],my_list[0]\n",
        "print(my_list)"
      ]
    },
    {
      "cell_type": "markdown",
      "source": [
        "# **Write a Python Program to Find HCF.**\n",
        "## Highest Common Factor(HCF): HCF, or Highest Common Factor, is the largest positive integer that divides two or more numbers without leaving a remainder. Formula: For two numbers a and b, the HCF can be found using the formula:\n",
        "\n",
        "** HCF(𝑎, 𝑏) = GCD(𝑎, 𝑏)**\n",
        "For more than two numbers, you can find the HCF by taking the GCD of pairs of numbers at a time until you reach the last pair.\n",
        "\n",
        "# **Note: GCD stands for Greatest Common Divisor, use function.**\n"
      ],
      "metadata": {
        "id": "iS6JiE4uPbyH"
      },
      "id": "iS6JiE4uPbyH"
    },
    {
      "cell_type": "code",
      "source": [
        "def gcd(a, b):\n",
        "    while b:\n",
        "        a, b = b, a % b\n",
        "    return a\n",
        "\n",
        "def find_hcf(*numbers):\n",
        "    \"\"\"Function to find HCF of given numbers\"\"\"\n",
        "    hcf = numbers[0]\n",
        "    for num in numbers[1:]:\n",
        "        hcf = gcd(hcf, num)\n",
        "    return hcf\n",
        "\n",
        "num_list = [53, 22, 160]\n",
        "hcf = find_hcf(*num_list)\n",
        "print(f\"HCF of {num_list} is {hcf}\")"
      ],
      "metadata": {
        "id": "9qUfYf0wPnvt",
        "outputId": "162e1477-937b-43ca-8431-27eb2d01013d",
        "colab": {
          "base_uri": "https://localhost:8080/"
        }
      },
      "id": "9qUfYf0wPnvt",
      "execution_count": null,
      "outputs": [
        {
          "output_type": "stream",
          "name": "stdout",
          "text": [
            "HCF of [53, 22, 160] is 1\n"
          ]
        }
      ]
    }
  ],
  "metadata": {
    "kernelspec": {
      "display_name": "Python 3 (ipykernel)",
      "language": "python",
      "name": "python3"
    },
    "language_info": {
      "codemirror_mode": {
        "name": "ipython",
        "version": 3
      },
      "file_extension": ".py",
      "mimetype": "text/x-python",
      "name": "python",
      "nbconvert_exporter": "python",
      "pygments_lexer": "ipython3",
      "version": "3.9.12"
    },
    "colab": {
      "provenance": [],
      "include_colab_link": true
    }
  },
  "nbformat": 4,
  "nbformat_minor": 5
}