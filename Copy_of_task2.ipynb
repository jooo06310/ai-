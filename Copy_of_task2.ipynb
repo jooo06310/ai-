{
  "nbformat": 4,
  "nbformat_minor": 0,
  "metadata": {
    "colab": {
      "provenance": [],
      "include_colab_link": true
    },
    "kernelspec": {
      "name": "python3",
      "display_name": "Python 3"
    },
    "language_info": {
      "name": "python"
    }
  },
  "cells": [
    {
      "cell_type": "markdown",
      "metadata": {
        "id": "view-in-github",
        "colab_type": "text"
      },
      "source": [
        "<a href=\"https://colab.research.google.com/github/jooo06310/ai-/blob/main/Copy_of_task2.ipynb\" target=\"_parent\"><img src=\"https://colab.research.google.com/assets/colab-badge.svg\" alt=\"Open In Colab\"/></a>"
      ]
    },
    {
      "cell_type": "code",
      "execution_count": null,
      "metadata": {
        "id": "vs_SU3ng0tbN"
      },
      "outputs": [],
      "source": []
    },
    {
      "cell_type": "markdown",
      "source": [
        "\n",
        "# **WAP to enter a number from user and print its absolute value.**"
      ],
      "metadata": {
        "id": "MnWAiH2o0zSa"
      }
    },
    {
      "cell_type": "code",
      "source": [
        "num=int(input(\"Enter a number: \"))\n",
        "if num<0:\n",
        "  num=num*-1\n",
        "  print(num)\n",
        "else:\n",
        "  print(num)"
      ],
      "metadata": {
        "id": "l3oLMLbk02Pj",
        "outputId": "4b9a11d7-0acb-4e11-bc9e-8e9890cae4cb",
        "colab": {
          "base_uri": "https://localhost:8080/"
        }
      },
      "execution_count": null,
      "outputs": [
        {
          "output_type": "stream",
          "name": "stdout",
          "text": [
            "Enter a number: 8\n",
            "8\n"
          ]
        }
      ]
    },
    {
      "cell_type": "markdown",
      "source": [
        "# **WAP to enter a year from user and check if it is leap year or not.**"
      ],
      "metadata": {
        "id": "pOnjNwNx03Tr"
      }
    },
    {
      "cell_type": "code",
      "source": [
        "y=int(input(\"Enter a year: \"))\n",
        "if y%4==0:\n",
        "\n",
        "  print(\"It is a leap year\")\n",
        "else:\n",
        "  print(\"It is not a leap year\")"
      ],
      "metadata": {
        "id": "4PEtUTm51H6x",
        "outputId": "26ff79e1-8546-42d5-e51e-a2a46bec36b8",
        "colab": {
          "base_uri": "https://localhost:8080/"
        }
      },
      "execution_count": null,
      "outputs": [
        {
          "output_type": "stream",
          "name": "stdout",
          "text": [
            "Enter a year: 2024\n",
            "It is a leap year\n"
          ]
        }
      ]
    },
    {
      "cell_type": "markdown",
      "source": [
        "# **WAP to enter the age of 3 person and print oldest and yougest among them.**"
      ],
      "metadata": {
        "id": "sn-NADUn1VGn"
      }
    },
    {
      "cell_type": "code",
      "source": [
        "Age1=int(input(\"Enter your age please: \"))\n",
        "Age2=int(input(\"Enter your age please: \"))\n",
        "Age3=int(input(\"Enter your age please: \"))\n",
        "if Age1>Age2 and Age1>Age3 and Age2>Age3:\n",
        "  print(\"Age1 is oldest\")\n",
        "  print(\"Age3 is yougest\")\n",
        "elif Age2>Age1 and Age2>Age3 and Age3>Age1:\n",
        "  print(\"Age2 is oldest\")\n",
        "  print(\"Age1 is yougest\")\n",
        "else :\n",
        "  Age3>Age2 and Age3>Age1 and Age1>Age2\n",
        "\n",
        "  print(\"Age3 is oldest\")\n",
        "  print(\"Age2 is yougest\")\n"
      ],
      "metadata": {
        "id": "uNGWS1AT1cYP",
        "outputId": "8d989e6f-ef22-4c2e-ba2c-398b47c3fdea",
        "colab": {
          "base_uri": "https://localhost:8080/"
        }
      },
      "execution_count": null,
      "outputs": [
        {
          "output_type": "stream",
          "name": "stdout",
          "text": [
            "Enter your age please: 18\n",
            "Enter your age please: 14\n",
            "Enter your age please: 10\n",
            "Age1 is oldest\n",
            "Age3 is yougest\n"
          ]
        }
      ]
    },
    {
      "cell_type": "markdown",
      "source": [
        "# **Write a program that asks the user to enter a series of numbers. The program should ask for numbers until the user enters a negative number. Once the user enters a negative number, the program should stop and print the sum of all the positive numbers entered**\n",
        "# **Example**\n",
        "# **Enter a number: 5**\n",
        "# **Enter a number: 8**\n",
        "# **Enter a number: 12**\n",
        "# **Enter a number: -2**\n",
        "# **The sum of the positive numbers is 25.**"
      ],
      "metadata": {
        "id": "XFRRNGVj1dEw"
      }
    },
    {
      "cell_type": "code",
      "source": [
        "n1=int(input(\"Enter a number: \"))\n",
        "n2=int(input(\"Enter a number: \"))\n",
        "n3=int(input(\"Enter a number: \"))\n",
        "if n1<0:\n",
        "  print(\"The sum of the positive numbers is\",n2+n3)\n",
        "\n",
        "elif n2<0:\n",
        "  print(\"The sum of the positive numbers is\",n1+n3)\n",
        "else:\n",
        "  print(\"The sum of the positive numbers is\",n1+n2)\n"
      ],
      "metadata": {
        "id": "ijp9SzHu2A3p",
        "outputId": "718e8720-960f-4cd2-c7d7-37f4babbaec3",
        "colab": {
          "base_uri": "https://localhost:8080/"
        }
      },
      "execution_count": null,
      "outputs": [
        {
          "output_type": "stream",
          "name": "stdout",
          "text": [
            "Enter a number: 5\n",
            "Enter a number: 5\n",
            "Enter a number: -4\n",
            "The sum of the positive numbers is 10\n"
          ]
        }
      ]
    },
    {
      "cell_type": "markdown",
      "source": [
        "# **Write a program that asks the user to enter their name and age. The program should check if the user's age is greater than or equal to 18. If it is, the program should print a message saying they are eligible to vote. Otherwise, the program should print a message saying they are not eligible to vote due to being underage.**"
      ],
      "metadata": {
        "id": "oODCHUj62DxA"
      }
    },
    {
      "cell_type": "code",
      "source": [
        "Name=str(input(\"Enter your name: \"))\n",
        "Age=int(input(\"Enter your age: \"))\n",
        "if Age>=19:\n",
        "  print(\"You are eligible to vote\")\n",
        "else:\n",
        "  print(\"You are not eligible to vote\")"
      ],
      "metadata": {
        "id": "Svls1cLA2JVA",
        "outputId": "4db68235-401e-4993-df99-d46a726086d0",
        "colab": {
          "base_uri": "https://localhost:8080/"
        }
      },
      "execution_count": null,
      "outputs": [
        {
          "output_type": "stream",
          "name": "stdout",
          "text": [
            "Enter your name: youssef\n",
            "Enter your age: 19\n",
            "You are eligible to vote\n"
          ]
        }
      ]
    },
    {
      "cell_type": "markdown",
      "source": [
        "# **Write a Python Program to Find the Factorial of a Number**"
      ],
      "metadata": {
        "id": "2y5o5SqL3nvL"
      }
    },
    {
      "cell_type": "code",
      "source": [
        "n=int(input(\"Enter a number to get the factorial: \"))\n",
        "for i in range(1,n):\n",
        "  n=n*i\n",
        "  print(n)\n"
      ],
      "metadata": {
        "id": "Q_v3ns1D3tgy",
        "outputId": "f34e01f1-93e0-4947-aceb-9f142eb89df6",
        "colab": {
          "base_uri": "https://localhost:8080/"
        }
      },
      "execution_count": null,
      "outputs": [
        {
          "output_type": "stream",
          "name": "stdout",
          "text": [
            "Enter a number to get the factorial: 5\n",
            "5\n",
            "10\n",
            "30\n",
            "120\n"
          ]
        }
      ]
    }
  ]
}